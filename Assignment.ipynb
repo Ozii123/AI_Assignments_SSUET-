{
 "cells": [
  {
   "cell_type": "code",
   "execution_count": 5,
   "metadata": {},
   "outputs": [
    {
     "name": "stdout",
     "output_type": "stream",
     "text": [
      "Player just earned 5 points\n"
     ]
    }
   ],
   "source": [
    "# Problem 5.3 (a)\n",
    "alien=\"green\"\n",
    "if \"green\" in alien:\n",
    "    print(\"Player just earned 5 points\")\n"
   ]
  },
  {
   "cell_type": "code",
   "execution_count": 6,
   "metadata": {},
   "outputs": [
    {
     "name": "stdout",
     "output_type": "stream",
     "text": [
      "You failed\n"
     ]
    }
   ],
   "source": [
    "# Problem 5.3 (b)\n",
    "alien=\"green\"\n",
    "if \"green\" in alien:\n",
    "    print(\"Player just earned 5 points\")\n",
    "else:\n",
    "    print(\"You failed\")"
   ]
  },
  {
   "cell_type": "code",
   "execution_count": 14,
   "metadata": {},
   "outputs": [
    {
     "name": "stdout",
     "output_type": "stream",
     "text": [
      "Player just earned 5 points\n"
     ]
    }
   ],
   "source": [
    "# Problem 5.4 (c)\n",
    "alien=\"green\"\n",
    "if \"green\" in alien:\n",
    "    print(\"Player just earned 5 points\")\n",
    "else:\n",
    "    print(\" you have earn no points\")\n",
    "    "
   ]
  },
  {
   "cell_type": "code",
   "execution_count": 13,
   "metadata": {},
   "outputs": [
    {
     "name": "stdout",
     "output_type": "stream",
     "text": [
      "You have earn no points\n"
     ]
    }
   ],
   "source": [
    "# Problem 5.5 (a)\n",
    "alien=\"green\"\n",
    "if \"green\" in alien:\n",
    "    print(\"Player just earned 5 points\")\n",
    "elif \"yellow\" in alien:\n",
    "    print(\"you have earn 10\")\n",
    "elif \"red\" in alien:\n",
    "    print(\" you have earn 15 points\")\n",
    "\n",
    "else:\n",
    "    print(\"You have earn no points\")\n"
   ]
  },
  {
   "cell_type": "code",
   "execution_count": null,
   "metadata": {
    "collapsed": true
   },
   "outputs": [],
   "source": [
    "# Problem 5.5 (a)\n",
    "alien=\"red\"\n",
    "if \"green\" in alien:\n",
    "    print(\"Player just earned 5 points\")\n",
    "elif \"yellow\" in alien:\n",
    "    print(\"you have earn 10\")\n",
    "elif \"red\" in alien:\n",
    "    print(\" you have earn 15 points\")\n",
    "\n",
    "else:\n",
    "    print(\"You have earn no points\")"
   ]
  },
  {
   "cell_type": "code",
   "execution_count": null,
   "metadata": {
    "collapsed": true
   },
   "outputs": [],
   "source": [
    "# Problem 5.5 (b)\n",
    "alien=\"yellow\"\n",
    "if \"green\" in alien:\n",
    "    print(\"Player just earned 5 points\")\n",
    "elif \"yellow\" in alien:\n",
    "    print(\"you have earn 10\")\n",
    "elif \"red\" in alien:\n",
    "    print(\" you have earn 15 points\")\n",
    "\n",
    "else:\n",
    "    print(\"You have earn no points\")"
   ]
  },
  {
   "cell_type": "code",
   "execution_count": 18,
   "metadata": {},
   "outputs": [
    {
     "name": "stdout",
     "output_type": "stream",
     "text": [
      "Person is older\n"
     ]
    }
   ],
   "source": [
    "#Problem 5.6 \n",
    "age=70\n",
    "if age<=2:\n",
    "  print(\"Person is a baby\")\n",
    "elif age>2 and age<=4:\n",
    "    print(\"person is toddler\")\n",
    "elif age>4 and age<=12:\n",
    "    print(\"Person is a kid\")\n",
    "elif age>12 and age<=20:\n",
    "    print(\"Person is a teenager\")\n",
    "elif age>20 and age<=65:\n",
    "    print(\"person is a adult\")\n",
    "else:\n",
    "    print(\"Person is older\")"
   ]
  },
  {
   "cell_type": "code",
   "execution_count": null,
   "metadata": {
    "collapsed": true
   },
   "outputs": [],
   "source": []
  },
  {
   "cell_type": "code",
   "execution_count": null,
   "metadata": {
    "collapsed": true
   },
   "outputs": [],
   "source": []
  }
 ],
 "metadata": {
  "kernelspec": {
   "display_name": "Python 3",
   "language": "python",
   "name": "python3"
  },
  "language_info": {
   "codemirror_mode": {
    "name": "ipython",
    "version": 3
   },
   "file_extension": ".py",
   "mimetype": "text/x-python",
   "name": "python",
   "nbconvert_exporter": "python",
   "pygments_lexer": "ipython3",
   "version": "3.6.2"
  }
 },
 "nbformat": 4,
 "nbformat_minor": 2
}
